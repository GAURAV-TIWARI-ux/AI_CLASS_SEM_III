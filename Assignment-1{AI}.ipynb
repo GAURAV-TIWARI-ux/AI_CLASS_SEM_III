{
 "cells": [
  {
   "cell_type": "code",
   "execution_count": 1,
   "id": "3013a906",
   "metadata": {},
   "outputs": [
    {
     "name": "stdout",
     "output_type": "stream",
     "text": [
      "Start: (2, 0) Goal: (4, 5)\n"
     ]
    }
   ],
   "source": [
    "# --- Imports ---\n",
    "import heapq\n",
    "import math\n",
    "import numpy as np\n",
    "import matplotlib.pyplot as plt\n",
    "from collections import deque\n",
    "from matplotlib.colors import ListedColormap\n",
    "\n",
    "# --- Helper Functions ---\n",
    "def find_symbol(matrix, symbol):\n",
    "    \"\"\"Locate the (row, col) of a given symbol inside the grid.\"\"\"\n",
    "    for row_idx, row in enumerate(matrix):\n",
    "        for col_idx, val in enumerate(row):\n",
    "            if val == symbol:\n",
    "                return (row_idx, col_idx)\n",
    "    return None\n",
    "\n",
    "def manhattan_distance(p1, p2):\n",
    "    \"\"\"Compute Manhattan (L1) distance.\"\"\"\n",
    "    return abs(p1[0] - p2[0]) + abs(p1[1] - p2[1])\n",
    "\n",
    "def valid_neighbors(matrix, r, c):\n",
    "    \"\"\"Generate walkable neighbors (no walls).\"\"\"\n",
    "    directions = [(-1,0), (1,0), (0,-1), (0,1)]\n",
    "    for dr, dc in directions:\n",
    "        nr, nc = r + dr, c + dc\n",
    "        if 0 <= nr < len(matrix) and 0 <= nc < len(matrix[0]) and matrix[nr][nc] != 1:\n",
    "            yield (nr, nc)\n",
    "\n",
    "def astar_solver(matrix, heuristic):\n",
    "    \"\"\"A* search with custom heuristic.\"\"\"\n",
    "    start = find_symbol(matrix, 'A')\n",
    "    goal = find_symbol(matrix, 'B')\n",
    "    if start is None or goal is None:\n",
    "        raise ValueError(\"Grid missing 'A' (start) or 'B' (goal).\")\n",
    "\n",
    "    g_costs = {start: 0}\n",
    "    parent = {start: None}\n",
    "    open_heap = [(heuristic(start), 0, start)]\n",
    "    order = 0\n",
    "    visited = set()\n",
    "\n",
    "    while open_heap:\n",
    "        f_val, _, current = heapq.heappop(open_heap)\n",
    "        if current in visited:\n",
    "            continue\n",
    "        if current == goal:\n",
    "            # reconstruct path\n",
    "            route = []\n",
    "            node = current\n",
    "            while node is not None:\n",
    "                route.append(node)\n",
    "                node = parent[node]\n",
    "            return list(reversed(route)), g_costs[current]\n",
    "        visited.add(current)\n",
    "\n",
    "        for nxt in valid_neighbors(matrix, *current):\n",
    "            step_cost = g_costs[current] + 1\n",
    "            if nxt not in g_costs or step_cost < g_costs[nxt]:\n",
    "                g_costs[nxt] = step_cost\n",
    "                parent[nxt] = current\n",
    "                order += 1\n",
    "                heapq.heappush(open_heap, (step_cost + heuristic(nxt), order, nxt))\n",
    "    return None, math.inf\n",
    "\n",
    "def uniform_cost(matrix):\n",
    "    \"\"\"Uniform Cost Search: return shortest path cost.\"\"\"\n",
    "    start = find_symbol(matrix, 'A')\n",
    "    goal = find_symbol(matrix, 'B')\n",
    "    if start is None or goal is None:\n",
    "        raise ValueError(\"Grid missing 'A' or 'B'.\")\n",
    "\n",
    "    pq = [(0, start)]\n",
    "    dist = {start: 0}\n",
    "\n",
    "    while pq:\n",
    "        cost, node = heapq.heappop(pq)\n",
    "        if node == goal:\n",
    "            return cost\n",
    "        for nb in valid_neighbors(matrix, *node):\n",
    "            new_cost = cost + 1\n",
    "            if nb not in dist or new_cost < dist[nb]:\n",
    "                dist[nb] = new_cost\n",
    "                heapq.heappush(pq, (new_cost, nb))\n",
    "    return math.inf\n",
    "\n",
    "def visualize_grid(matrix, path=None, title=\"Grid World\"):\n",
    "    \"\"\"Plot maze with optional path overlay.\"\"\"\n",
    "    cmap = ListedColormap(['white', 'blue', 'green', 'red'])\n",
    "    encoded = []\n",
    "    for r in range(len(matrix)):\n",
    "        row_vals = []\n",
    "        for c in range(len(matrix[0])):\n",
    "            if matrix[r][c] == 1:\n",
    "                row_vals.append(0)   # wall\n",
    "            elif matrix[r][c] == 'A':\n",
    "                row_vals.append(2)   # start\n",
    "            elif matrix[r][c] == 'B':\n",
    "                row_vals.append(3)   # goal\n",
    "            else:\n",
    "                row_vals.append(1)   # free\n",
    "        encoded.append(row_vals)\n",
    "    encoded = np.array(encoded)\n",
    "\n",
    "    plt.figure(figsize=(5,5))\n",
    "    plt.imshow(encoded, cmap=cmap, interpolation='nearest', vmin=0, vmax=3)\n",
    "    if path:\n",
    "        y_coords = [p[1] for p in path]\n",
    "        x_coords = [p[0] for p in path]\n",
    "        plt.plot(y_coords, x_coords, color='red', linewidth=2)\n",
    "    plt.title(title)\n",
    "    plt.gca().invert_yaxis()\n",
    "    plt.show()\n",
    "\n",
    "# --- Example Map ---\n",
    "maze_layout = [\n",
    "    [0, 0, 0, 0, 0, 0],\n",
    "    [1, 1, 0, 1, 1, 0],\n",
    "    ['A', 0, 0, 0, 1, 0],\n",
    "    [1, 1, 1, 0, 1, 0],\n",
    "    [0, 0, 0, 0, 0, 'B'],\n",
    "]\n",
    "\n",
    "start_pos = find_symbol(maze_layout, 'A')\n",
    "goal_pos  = find_symbol(maze_layout, 'B')\n",
    "print(\"Start:\", start_pos, \"Goal:\", goal_pos)\n"
   ]
  },
  {
   "cell_type": "code",
   "execution_count": 2,
   "id": "ba2cde69",
   "metadata": {},
   "outputs": [
    {
     "name": "stdout",
     "output_type": "stream",
     "text": [
      "Baseline Manhattan (L1)\n",
      "Path: [(2, 0), (2, 1), (2, 2), (2, 3), (3, 3), (4, 3), (4, 4), (4, 5)]\n",
      "Cost: 7\n",
      "Optimal Cost: 7 | Optimal?: True\n"
     ]
    },
    {
     "data": {
      "image/png": "[encoded data removed]",
      "text/plain": [
       "<Figure size 500x500 with 1 Axes>"
      ]
     },
     "metadata": {},
     "output_type": "display_data"
    }
   ],
   "source": [
    "# --- Case 0: Baseline Manhattan (L1) Heuristic ---\n",
    "goal_pos = find_symbol(maze_layout, 'B')\n",
    "\n",
    "heuristic_base = lambda node: manhattan_distance(node, goal_pos)\n",
    "\n",
    "path_case0, cost_case0 = astar_solver(maze_layout, heuristic_base)\n",
    "optimal_cost = uniform_cost(maze_layout)\n",
    "\n",
    "print(\"Baseline Manhattan (L1)\")\n",
    "print(\"Path:\", path_case0)\n",
    "print(\"Cost:\", cost_case0)\n",
    "print(\"Optimal Cost:\", optimal_cost, \"| Optimal?:\", cost_case0 == optimal_cost)\n",
    "\n",
    "visualize_grid(maze_layout, path_case0, title=\"Baseline: Manhattan\")\n"
   ]
  },
  {
   "cell_type": "code",
   "execution_count": 3,
   "id": "db313636",
   "metadata": {},
   "outputs": [
    {
     "name": "stdout",
     "output_type": "stream",
     "text": [
      "Heuristic: 1.5 × Manhattan\n",
      "Path: [(2, 0), (2, 1), (2, 2), (2, 3), (3, 3), (4, 3), (4, 4), (4, 5)]\n",
      "Cost: 7\n",
      "Optimal Cost: 7 | Optimal?: True\n"
     ]
    },
    {
     "data": {
      "image/png": "[encoded data removed]",
      "text/plain": [
       "<Figure size 500x500 with 1 Axes>"
      ]
     },
     "metadata": {},
     "output_type": "display_data"
    }
   ],
   "source": [
    "# --- Case 1: Weighted Manhattan (1.5 × L1) ---\n",
    "heuristic_w15 = lambda node: 1.5 * manhattan_distance(node, find_symbol(maze_layout, 'B'))\n",
    "\n",
    "path_case1, cost_case1 = astar_solver(maze_layout, heuristic_w15)\n",
    "optimal_cost = uniform_cost(maze_layout)\n",
    "\n",
    "print(\"Heuristic: 1.5 × Manhattan\")\n",
    "print(\"Path:\", path_case1)\n",
    "print(\"Cost:\", cost_case1)\n",
    "print(\"Optimal Cost:\", optimal_cost, \"| Optimal?:\", cost_case1 == optimal_cost)\n",
    "\n",
    "visualize_grid(maze_layout, path_case1, title=\"Heuristic = 1.5 × Manhattan\")\n"
   ]
  },
  {
   "cell_type": "code",
   "execution_count": 4,
   "id": "a1437101",
   "metadata": {},
   "outputs": [
    {
     "name": "stdout",
     "output_type": "stream",
     "text": [
      "Heuristic: 2 × Manhattan\n",
      "Path: [(2, 0), (2, 1), (2, 2), (2, 3), (3, 3), (4, 3), (4, 4), (4, 5)]\n",
      "Cost: 7\n",
      "Optimal Cost: 7 | Optimal?: True\n"
     ]
    },
    {
     "data": {
      "image/png": "[encoded data removed]",
      "text/plain": [
       "<Figure size 500x500 with 1 Axes>"
      ]
     },
     "metadata": {},
     "output_type": "display_data"
    }
   ],
   "source": [
    "# --- Case 2: Weighted Manhattan (2 × L1) ---\n",
    "heuristic_w2 = lambda node: 2 * manhattan_distance(node, find_symbol(maze_layout, 'B'))\n",
    "\n",
    "path_case2, cost_case2 = astar_solver(maze_layout, heuristic_w2)\n",
    "optimal_cost = uniform_cost(maze_layout)\n",
    "\n",
    "print(\"Heuristic: 2 × Manhattan\")\n",
    "print(\"Path:\", path_case2)\n",
    "print(\"Cost:\", cost_case2)\n",
    "print(\"Optimal Cost:\", optimal_cost, \"| Optimal?:\", cost_case2 == optimal_cost)\n",
    "\n",
    "visualize_grid(maze_layout, path_case2, title=\"Heuristic = 2 × Manhattan\")\n"
   ]
  },
  {
   "cell_type": "code",
   "execution_count": 5,
   "id": "29614509",
   "metadata": {},
   "outputs": [
    {
     "name": "stdout",
     "output_type": "stream",
     "text": [
      "Heuristic: 0.5 × Manhattan\n",
      "Path: [(2, 0), (2, 1), (2, 2), (2, 3), (3, 3), (4, 3), (4, 4), (4, 5)]\n",
      "Cost: 7\n",
      "Optimal Cost: 7 | Optimal?: True\n"
     ]
    },
    {
     "data": {
      "image/png": "[encoded data removed]",
      "text/plain": [
       "<Figure size 500x500 with 1 Axes>"
      ]
     },
     "metadata": {},
     "output_type": "display_data"
    }
   ],
   "source": [
    "# --- Case 3: Weighted Manhattan (0.5 × L1) ---\n",
    "heuristic_w05 = lambda node: 0.5 * manhattan_distance(node, find_symbol(maze_layout, 'B'))\n",
    "\n",
    "path_case3, cost_case3 = astar_solver(maze_layout, heuristic_w05)\n",
    "optimal_cost = uniform_cost(maze_layout)\n",
    "\n",
    "print(\"Heuristic: 0.5 × Manhattan\")\n",
    "print(\"Path:\", path_case3)\n",
    "print(\"Cost:\", cost_case3)\n",
    "print(\"Optimal Cost:\", optimal_cost, \"| Optimal?:\", cost_case3 == optimal_cost)\n",
    "\n",
    "visualize_grid(maze_layout, path_case3, title=\"Heuristic = 0.5 × Manhattan\")\n"
   ]
  },
  {
   "cell_type": "code",
   "execution_count": 6,
   "id": "ae9aa729",
   "metadata": {},
   "outputs": [
    {
     "name": "stdout",
     "output_type": "stream",
     "text": [
      "Admissible (Manhattan)? True violations: []\n",
      "Admissible (1.5× Manhattan)? False violations (first 3): [((0, 0), 13.5, 9), ((0, 1), 12.0, 8), ((0, 2), 10.5, 7)]\n",
      "Admissible (2× Manhattan)? False violations (first 3): [((0, 0), 18, 9), ((0, 1), 16, 8), ((0, 2), 14, 7)]\n",
      "Admissible (0.5× Manhattan)? True violations (first 3): []\n"
     ]
    }
   ],
   "source": [
    "# --- Admissibility Checks for Different Heuristics ---\n",
    "goal_pos = find_symbol(maze_layout, 'B')\n",
    "\n",
    "def verify_admissibility(matrix, heuristic_func):\n",
    "    \"\"\"Check if heuristic never overestimates the true shortest cost.\"\"\"\n",
    "    from collections import deque\n",
    "    \n",
    "    rows, cols = len(matrix), len(matrix[0])\n",
    "    INF = 10**9\n",
    "    dist_grid = [[INF] * cols for _ in range(rows)]\n",
    "    \n",
    "    gr, gc = goal_pos\n",
    "    dq = deque([(gr, gc)])\n",
    "    dist_grid[gr][gc] = 0\n",
    "\n",
    "    # BFS from goal to compute exact shortest distances\n",
    "    while dq:\n",
    "        r, c = dq.popleft()\n",
    "        for nr, nc in valid_neighbors(matrix, r, c):\n",
    "            if dist_grid[nr][nc] > dist_grid[r][c] + 1:\n",
    "                dist_grid[nr][nc] = dist_grid[r][c] + 1\n",
    "                dq.append((nr, nc))\n",
    "\n",
    "    admissible = True\n",
    "    overestimates = []\n",
    "\n",
    "    for r in range(rows):\n",
    "        for c in range(cols):\n",
    "            if matrix[r][c] != 1:  # not a wall\n",
    "                h_val = heuristic_func((r, c))\n",
    "                true_val = dist_grid[r][c]\n",
    "                if true_val == INF:\n",
    "                    continue  # unreachable\n",
    "                if h_val > true_val + 1e-9:\n",
    "                    admissible = False\n",
    "                    overestimates.append(((r, c), h_val, true_val))\n",
    "\n",
    "    return admissible, overestimates\n",
    "\n",
    "# --- Run checks on each heuristic ---\n",
    "adm_case0, viol_case0 = verify_admissibility(maze_layout, heuristic_base)\n",
    "adm_case1, viol_case1 = verify_admissibility(maze_layout, heuristic_w15)\n",
    "adm_case2, viol_case2 = verify_admissibility(maze_layout, heuristic_w2)\n",
    "adm_case3, viol_case3 = verify_admissibility(maze_layout, heuristic_w05)\n",
    "\n",
    "print(\"Admissible (Manhattan)?\", adm_case0, \"violations:\", viol_case0[:3])\n",
    "print(\"Admissible (1.5× Manhattan)?\", adm_case1, \"violations (first 3):\", viol_case1[:3])\n",
    "print(\"Admissible (2× Manhattan)?\", adm_case2, \"violations (first 3):\", viol_case2[:3])\n",
    "print(\"Admissible (0.5× Manhattan)?\", adm_case3, \"violations (first 3):\", viol_case3[:3])\n"
   ]
  }
 ],
 "metadata": {
  "kernelspec": {
   "display_name": "Python 3",
   "language": "python",
   "name": "python3"
  },
  "language_info": {
   "codemirror_mode": {
    "name": "ipython",
    "version": 3
   },
   "file_extension": ".py",
   "mimetype": "text/x-python",
   "name": "python",
   "nbconvert_exporter": "python",
   "pygments_lexer": "ipython3",
   "version": "3.12.6"
  }
 },
 "nbformat": 4,
 "nbformat_minor": 5
}
